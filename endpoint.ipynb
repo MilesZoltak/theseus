{
  "cells": [
    {
      "cell_type": "markdown",
      "metadata": {
        "id": "4IxXq4EOOu_s"
      },
      "source": [
        "# Things we might need for both midas and adabins"
      ]
    },
    {
      "cell_type": "code",
      "execution_count": null,
      "metadata": {
        "colab": {
          "base_uri": "https://localhost:8080/"
        },
        "id": "kiC66StzO13t",
        "outputId": "8db22e2a-5416-4e2f-e201-3c8f6ee3bd59"
      },
      "outputs": [
        {
          "name": "stdout",
          "output_type": "stream",
          "text": [
            "Looking in indexes: https://pypi.org/simple, https://us-python.pkg.dev/colab-wheels/public/simple/\n",
            "Collecting timm\n",
            "  Downloading timm-0.6.12-py3-none-any.whl (549 kB)\n",
            "\u001b[2K     \u001b[90m━━━━━━━━━━━━━━━━━━━━━━━━━━━━━━━━━━━━━━\u001b[0m \u001b[32m549.1/549.1 KB\u001b[0m \u001b[31m29.4 MB/s\u001b[0m eta \u001b[36m0:00:00\u001b[0m\n",
            "\u001b[?25hRequirement already satisfied: torch>=1.7 in /usr/local/lib/python3.9/dist-packages (from timm) (1.13.1+cu116)\n",
            "Requirement already satisfied: pyyaml in /usr/local/lib/python3.9/dist-packages (from timm) (6.0)\n",
            "Requirement already satisfied: torchvision in /usr/local/lib/python3.9/dist-packages (from timm) (0.14.1+cu116)\n",
            "Collecting huggingface-hub\n",
            "  Downloading huggingface_hub-0.13.2-py3-none-any.whl (199 kB)\n",
            "\u001b[2K     \u001b[90m━━━━━━━━━━━━━━━━━━━━━━━━━━━━━━━━━━━━━━\u001b[0m \u001b[32m199.2/199.2 KB\u001b[0m \u001b[31m23.4 MB/s\u001b[0m eta \u001b[36m0:00:00\u001b[0m\n",
            "\u001b[?25hRequirement already satisfied: typing-extensions in /usr/local/lib/python3.9/dist-packages (from torch>=1.7->timm) (4.5.0)\n",
            "Requirement already satisfied: tqdm>=4.42.1 in /usr/local/lib/python3.9/dist-packages (from huggingface-hub->timm) (4.65.0)\n",
            "Requirement already satisfied: requests in /usr/local/lib/python3.9/dist-packages (from huggingface-hub->timm) (2.25.1)\n",
            "Requirement already satisfied: filelock in /usr/local/lib/python3.9/dist-packages (from huggingface-hub->timm) (3.9.0)\n",
            "Requirement already satisfied: packaging>=20.9 in /usr/local/lib/python3.9/dist-packages (from huggingface-hub->timm) (23.0)\n",
            "Requirement already satisfied: pillow!=8.3.*,>=5.3.0 in /usr/local/lib/python3.9/dist-packages (from torchvision->timm) (8.4.0)\n",
            "Requirement already satisfied: numpy in /usr/local/lib/python3.9/dist-packages (from torchvision->timm) (1.22.4)\n",
            "Requirement already satisfied: idna<3,>=2.5 in /usr/local/lib/python3.9/dist-packages (from requests->huggingface-hub->timm) (2.10)\n",
            "Requirement already satisfied: urllib3<1.27,>=1.21.1 in /usr/local/lib/python3.9/dist-packages (from requests->huggingface-hub->timm) (1.26.15)\n",
            "Requirement already satisfied: chardet<5,>=3.0.2 in /usr/local/lib/python3.9/dist-packages (from requests->huggingface-hub->timm) (4.0.0)\n",
            "Requirement already satisfied: certifi>=2017.4.17 in /usr/local/lib/python3.9/dist-packages (from requests->huggingface-hub->timm) (2022.12.7)\n",
            "Installing collected packages: huggingface-hub, timm\n",
            "Successfully installed huggingface-hub-0.13.2 timm-0.6.12\n",
            "Looking in indexes: https://pypi.org/simple, https://us-python.pkg.dev/colab-wheels/public/simple/\n",
            "Collecting pyngrok==4.1.1\n",
            "  Downloading pyngrok-4.1.1.tar.gz (18 kB)\n",
            "  Preparing metadata (setup.py) ... \u001b[?25l\u001b[?25hdone\n",
            "Requirement already satisfied: future in /usr/local/lib/python3.9/dist-packages (from pyngrok==4.1.1) (0.16.0)\n",
            "Requirement already satisfied: PyYAML in /usr/local/lib/python3.9/dist-packages (from pyngrok==4.1.1) (6.0)\n",
            "Building wheels for collected packages: pyngrok\n",
            "  Building wheel for pyngrok (setup.py) ... \u001b[?25l\u001b[?25hdone\n",
            "  Created wheel for pyngrok: filename=pyngrok-4.1.1-py3-none-any.whl size=15979 sha256=db1e0588881b2cfbfa93f87d6b872e495f882c3855e71bc21d2121d1daf2be50\n",
            "  Stored in directory: /root/.cache/pip/wheels/89/2d/c2/abe6bcfde6bce368c00ecd73310c11edb672c3eda09a090cfa\n",
            "Successfully built pyngrok\n",
            "Installing collected packages: pyngrok\n",
            "Successfully installed pyngrok-4.1.1\n",
            "Looking in indexes: https://pypi.org/simple, https://us-python.pkg.dev/colab-wheels/public/simple/\n",
            "Collecting flask_ngrok\n",
            "  Downloading flask_ngrok-0.0.25-py3-none-any.whl (3.1 kB)\n",
            "Requirement already satisfied: Flask>=0.8 in /usr/local/lib/python3.9/dist-packages (from flask_ngrok) (2.2.3)\n",
            "Requirement already satisfied: requests in /usr/local/lib/python3.9/dist-packages (from flask_ngrok) (2.25.1)\n",
            "Requirement already satisfied: Werkzeug>=2.2.2 in /usr/local/lib/python3.9/dist-packages (from Flask>=0.8->flask_ngrok) (2.2.3)\n",
            "Requirement already satisfied: Jinja2>=3.0 in /usr/local/lib/python3.9/dist-packages (from Flask>=0.8->flask_ngrok) (3.1.2)\n",
            "Requirement already satisfied: click>=8.0 in /usr/local/lib/python3.9/dist-packages (from Flask>=0.8->flask_ngrok) (8.1.3)\n",
            "Requirement already satisfied: importlib-metadata>=3.6.0 in /usr/local/lib/python3.9/dist-packages (from Flask>=0.8->flask_ngrok) (6.0.0)\n",
            "Requirement already satisfied: itsdangerous>=2.0 in /usr/local/lib/python3.9/dist-packages (from Flask>=0.8->flask_ngrok) (2.1.2)\n",
            "Requirement already satisfied: urllib3<1.27,>=1.21.1 in /usr/local/lib/python3.9/dist-packages (from requests->flask_ngrok) (1.26.15)\n",
            "Requirement already satisfied: chardet<5,>=3.0.2 in /usr/local/lib/python3.9/dist-packages (from requests->flask_ngrok) (4.0.0)\n",
            "Requirement already satisfied: idna<3,>=2.5 in /usr/local/lib/python3.9/dist-packages (from requests->flask_ngrok) (2.10)\n",
            "Requirement already satisfied: certifi>=2017.4.17 in /usr/local/lib/python3.9/dist-packages (from requests->flask_ngrok) (2022.12.7)\n",
            "Requirement already satisfied: zipp>=0.5 in /usr/local/lib/python3.9/dist-packages (from importlib-metadata>=3.6.0->Flask>=0.8->flask_ngrok) (3.15.0)\n",
            "Requirement already satisfied: MarkupSafe>=2.0 in /usr/local/lib/python3.9/dist-packages (from Jinja2>=3.0->Flask>=0.8->flask_ngrok) (2.1.2)\n",
            "Installing collected packages: flask_ngrok\n",
            "Successfully installed flask_ngrok-0.0.25\n",
            "Looking in indexes: https://pypi.org/simple, https://us-python.pkg.dev/colab-wheels/public/simple/\n",
            "Requirement already satisfied: Pillow in /usr/local/lib/python3.9/dist-packages (8.4.0)\n",
            "Looking in indexes: https://pypi.org/simple, https://us-python.pkg.dev/colab-wheels/public/simple/\n",
            "Collecting pyperclip\n",
            "  Downloading pyperclip-1.8.2.tar.gz (20 kB)\n",
            "  Preparing metadata (setup.py) ... \u001b[?25l\u001b[?25hdone\n",
            "Building wheels for collected packages: pyperclip\n",
            "  Building wheel for pyperclip (setup.py) ... \u001b[?25l\u001b[?25hdone\n",
            "  Created wheel for pyperclip: filename=pyperclip-1.8.2-py3-none-any.whl size=11136 sha256=f1279f6c53b4f5af44ed75fcca32f8a40327e0baacd46f73ad61f1c5f52748a4\n",
            "  Stored in directory: /root/.cache/pip/wheels/0c/09/9e/49e21a6840ef7955b06d47394afef0058f0378c0914e48b8b8\n",
            "Successfully built pyperclip\n",
            "Installing collected packages: pyperclip\n",
            "Successfully installed pyperclip-1.8.2\n"
          ]
        }
      ],
      "source": [
        "!pip install timm\n",
        "!pip install pyngrok==4.1.1\n",
        "!pip install flask_ngrok\n",
        "!pip install Pillow\n",
        "!pip install pyperclip"
      ]
    },
    {
      "cell_type": "code",
      "execution_count": null,
      "metadata": {
        "id": "G8lRcXDwOzt5"
      },
      "outputs": [],
      "source": [
        "# import all the goodies we need\n",
        "import matplotlib.pyplot as plt\n",
        "from PIL import Image\n",
        "import cv2\n",
        "import numpy as np\n",
        "import base64\n",
        "import torch\n",
        "import urllib.request\n",
        "from io import BytesIO\n",
        "from sklearn.linear_model import LinearRegression"
      ]
    },
    {
      "cell_type": "code",
      "execution_count": null,
      "metadata": {
        "id": "3lBv9Q2QPNs5"
      },
      "outputs": [],
      "source": [
        "def output_to_b64(output):\n",
        "  depths = Image.fromarray(output)\n",
        "  depths = depths.convert('RGB')\n",
        "  buffered = BytesIO()\n",
        "  depths.save(buffered, format='PNG')\n",
        "  b64 = base64.b64encode(buffered.getvalue()).decode('utf-8')\n",
        "  return b64"
      ]
    },
    {
      "cell_type": "markdown",
      "metadata": {
        "id": "BjfzEgN5ORjM"
      },
      "source": [
        "#MiDaS Approach"
      ]
    },
    {
      "cell_type": "code",
      "execution_count": null,
      "metadata": {
        "id": "oc-g-szqOcuE"
      },
      "outputs": [],
      "source": [
        "# choose the model to load\n",
        "\n",
        "#model_type = \"DPT_Large\"     # MiDaS v3 - Large     (highest accuracy, slowest inference speed)\n",
        "model_type = \"DPT_Hybrid\"   # MiDaS v3 - Hybrid    (medium accuracy, medium inference speed)\n",
        "# model_type = \"MiDaS_small\"  # MiDaS v2.1 - Small   (lowest accuracy, highest inference speed)\n",
        "midas = torch.hub.load(\"intel-isl/MiDaS\", model_type)\n",
        "\n",
        "# ... i dunno. transforms or something\n",
        "midas_transforms = torch.hub.load(\"intel-isl/MiDaS\", \"transforms\")\n",
        "\n",
        "if model_type == \"DPT_Large\" or model_type == \"DPT_Hybrid\":\n",
        "    transform = midas_transforms.dpt_transform\n",
        "else:\n",
        "    transform = midas_transforms.small_transform\n",
        "\n",
        "# set to cuda and go to eval mode\n",
        "device = torch.device(\"cuda\") if torch.cuda.is_available() else torch.device(\"cpu\")\n",
        "midas.to(device)\n",
        "midas.eval()"
      ]
    },
    {
      "cell_type": "code",
      "execution_count": null,
      "metadata": {
        "id": "GWAs_TLlOm2b"
      },
      "outputs": [],
      "source": [
        "# convert our image data to a format readable by midas\n",
        "def get_input_batch(b64):\n",
        "  image_bytes = base64.b64decode(b64)\n",
        "  image = Image.open(BytesIO(image_bytes))\n",
        "  np_img = np.array(image)\n",
        "  np_img = cv2.cvtColor(np_img, cv2.COLOR_BGR2RGB)\n",
        "  input_batch = transform(np_img).to(device)\n",
        "  return input_batch, np_img\n",
        "\n",
        "def do_prediction_midas(input_batch, np_img):\n",
        "  with torch.no_grad():\n",
        "      prediction = midas(input_batch)\n",
        "      prediction = torch.nn.functional.interpolate(\n",
        "          prediction.unsqueeze(1),\n",
        "          size=np_img.shape[:2],\n",
        "          mode=\"bicubic\",\n",
        "          align_corners=False,\n",
        "      ).squeeze()\n",
        "  output = prediction.cpu().numpy()\n",
        "  return output\n",
        "\n",
        "def output_to_b64(output):\n",
        "  binary_array = output.tobytes()\n",
        "  # Send binary over HTTP response\n",
        "  bites = bytes(binary_array)\n",
        "  b64 = base64.b64encode(bites).decode('utf-8')\n",
        "  return b64"
      ]
    },
    {
      "cell_type": "markdown",
      "metadata": {
        "id": "Pj-vXc2gOWvs"
      },
      "source": [
        "# AdaBins Approach"
      ]
    },
    {
      "cell_type": "code",
      "execution_count": null,
      "metadata": {
        "colab": {
          "base_uri": "https://localhost:8080/"
        },
        "id": "3UEAIM1aZbQU",
        "outputId": "b504708a-5f48-48c4-d889-8bf3fe91a39a"
      },
      "outputs": [
        {
          "name": "stdout",
          "output_type": "stream",
          "text": [
            "Mounted at /content/drive\n"
          ]
        }
      ],
      "source": [
        "from google.colab import drive\n",
        "drive.mount('/content/drive')"
      ]
    },
    {
      "cell_type": "code",
      "execution_count": null,
      "metadata": {
        "colab": {
          "base_uri": "https://localhost:8080/"
        },
        "id": "LhQc1HcYZa6Y",
        "outputId": "1e8b6dbf-4fe7-4d4c-e7e4-ab9118f9b536"
      },
      "outputs": [
        {
          "name": "stdout",
          "output_type": "stream",
          "text": [
            "Cloning into 'AdaBins'...\n",
            "remote: Enumerating objects: 80, done.\u001b[K\n",
            "remote: Total 80 (delta 0), reused 0 (delta 0), pack-reused 80\u001b[K\n",
            "Unpacking objects: 100% (80/80), 558.92 KiB | 1.76 MiB/s, done.\n",
            "/content/AdaBins\n"
          ]
        }
      ],
      "source": [
        "!git clone 'https://github.com/shariqfarooq123/AdaBins'\n",
        "%cd AdaBins"
      ]
    },
    {
      "cell_type": "code",
      "execution_count": null,
      "metadata": {
        "id": "U5_RMe7_ZeGj"
      },
      "outputs": [],
      "source": [
        "\"\"\"\n",
        "Copy pretrained model into pretrained folder that doesnt yet exist\n",
        "\"\"\"\n",
        "\n",
        "# import os\n",
        "# [x for x in os.listdir(\"../drive/MyDrive\") if \".pt\" in x]\n",
        "\n",
        "!mkdir pretrained\n",
        "!cp ../drive/MyDrive/AdaBins_nyu.pt pretrained/AdaBins_nyu.pt"
      ]
    },
    {
      "cell_type": "code",
      "execution_count": null,
      "metadata": {
        "colab": {
          "base_uri": "https://localhost:8080/"
        },
        "id": "GcArOCQsZlL9",
        "outputId": "78ada42f-de4a-4805-a05c-5c9e7b64ca1f"
      },
      "outputs": [
        {
          "name": "stdout",
          "output_type": "stream",
          "text": [
            "mv: cannot stat '../*.jpg': No such file or directory\n"
          ]
        }
      ],
      "source": [
        "# any jpgs i upload will be moved to the test_imgs folder\n",
        "!mv ../*.jpg test_imgs"
      ]
    },
    {
      "cell_type": "code",
      "execution_count": null,
      "metadata": {
        "colab": {
          "base_uri": "https://localhost:8080/"
        },
        "id": "PO6sDEk4ZrI2",
        "outputId": "86b95b86-17f0-4b25-c12a-f41e14c83db1"
      },
      "outputs": [
        {
          "name": "stdout",
          "output_type": "stream",
          "text": [
            "Loading base model ()..."
          ]
        },
        {
          "name": "stderr",
          "output_type": "stream",
          "text": [
            "/usr/local/lib/python3.9/dist-packages/torch/hub.py:267: UserWarning: You are about to download and run code from an untrusted repository. In a future release, this won't be allowed. To add the repository to your trusted list, change the command to {calling_fn}(..., trust_repo=False) and a command prompt will appear asking for an explicit confirmation of trust, or load(..., trust_repo=True), which will assume that the prompt is to be answered with 'yes'. You can also use load(..., trust_repo='check') which will only prompt for confirmation if the repo is not already trusted. This will eventually be the default behaviour\n",
            "  warnings.warn(\n",
            "Downloading: \"https://github.com/rwightman/gen-efficientnet-pytorch/zipball/master\" to /root/.cache/torch/hub/master.zip\n",
            "Downloading: \"https://github.com/rwightman/pytorch-image-models/releases/download/v0.1-weights/tf_efficientnet_b5_ap-9e82fae8.pth\" to /root/.cache/torch/hub/checkpoints/tf_efficientnet_b5_ap-9e82fae8.pth\n"
          ]
        },
        {
          "name": "stdout",
          "output_type": "stream",
          "text": [
            "Done.\n",
            "Removing last two layers (global_pool & classifier).\n",
            "Building Encoder-Decoder model..Done.\n"
          ]
        }
      ],
      "source": [
        "\"\"\"\n",
        "predictions using nyu dataset\n",
        "\"\"\"\n",
        "from infer import InferenceHelper\n",
        "\n",
        "# use depending on if you have GPU enabled\n",
        "# infer_helper = InferenceHelper(dataset='nyu')\n",
        "infer_helper = InferenceHelper(dataset='nyu', device=\"cpu\")\n",
        "\n",
        "def do_predictions(pil_img):\n",
        "  bin_centers, predicted_depth = infer_helper.predict_pil(pil_img)\n",
        "  depths = predicted_depth[0][0]\n",
        "  return depths"
      ]
    },
    {
      "cell_type": "code",
      "execution_count": null,
      "metadata": {
        "id": "Qppy5w13aVrs"
      },
      "outputs": [],
      "source": [
        "classroom = Image.open(\"test_imgs/classroom__rgb_00283.jpg\")\n",
        "new_shape = np.array(classroom).shape[:2]\n",
        "\n",
        "def preprocess(b64):\n",
        "  image_bytes = base64.b64decode(b64)\n",
        "  image = Image.open(BytesIO(image_bytes))\n",
        "  np_img = np.array(image)\n",
        "  og_shape = np_img.shape[:2]\n",
        "\n",
        "  # reshape to be of the same size as classroom__rgb_00283\n",
        "  np_img = cv2.resize(np_img, new_shape)\n",
        "  pil_img = Image.fromarray(np_img)\n",
        "  return pil_img, og_shape\n",
        "\n",
        "def postprocess(output, og_shape):\n",
        "  depths = cv2.resize(output, og_shape[::-1])\n",
        "  binary_array = depths.tobytes()\n",
        "  # Send binary over HTTP response\n",
        "  bites = bytes(binary_array)\n",
        "  b64 = base64.b64encode(bites).decode('utf-8')\n",
        "  return b64, depths"
      ]
    },
    {
      "cell_type": "code",
      "execution_count": null,
      "metadata": {
        "colab": {
          "base_uri": "https://localhost:8080/"
        },
        "id": "8xorv9uH3pJF",
        "outputId": "9595f280-2891-4c2e-f0cc-e2c0fe835935"
      },
      "outputs": [
        {
          "name": "stdout",
          "output_type": "stream",
          "text": [
            "Authtoken saved to configuration file: /root/.ngrok2/ngrok.yml\n"
          ]
        }
      ],
      "source": [
        "!ngrok authtoken 2MktNDWGI68ZqbFSpIhkkgnwNoR_3eYQc1R61znkYuyKP4YbF"
      ]
    },
    {
      "cell_type": "code",
      "execution_count": null,
      "metadata": {
        "id": "BAA5T_GbTCim"
      },
      "outputs": [],
      "source": [
        "import pickle\n",
        "\n",
        "image = Image.open(\"../ada test.jpg\")\n",
        "np_img = np.array(image)\n",
        "og_shape = np_img.shape[:2]\n",
        "np_img = cv2.resize(np_img, new_shape)\n",
        "pil_img = Image.fromarray(np_img)\n",
        "output = do_predictions(pil_img)\n",
        "out_b64, output = postprocess(output, og_shape)"
      ]
    },
    {
      "cell_type": "code",
      "execution_count": null,
      "metadata": {
        "colab": {
          "background_save": true,
          "base_uri": "https://localhost:8080/",
          "height": 203
        },
        "id": "TeTXetaFTwOP",
        "outputId": "06870206-4d62-4871-d8f3-e61fe76f41a6"
      },
      "outputs": [
        {
          "ename": "FileNotFoundError",
          "evalue": "ignored",
          "output_type": "error",
          "traceback": [
            "\u001b[0;31m---------------------------------------------------------------------------\u001b[0m",
            "\u001b[0;31mFileNotFoundError\u001b[0m                         Traceback (most recent call last)",
            "\u001b[0;32m<ipython-input-24-86e43e86c25a>\u001b[0m in \u001b[0;36m<module>\u001b[0;34m\u001b[0m\n\u001b[0;32m----> 1\u001b[0;31m \u001b[0;32mwith\u001b[0m \u001b[0mopen\u001b[0m\u001b[0;34m(\u001b[0m\u001b[0;34m'ada_depths.pickle'\u001b[0m\u001b[0;34m,\u001b[0m \u001b[0;34m'rb'\u001b[0m\u001b[0;34m)\u001b[0m \u001b[0;32mas\u001b[0m \u001b[0mfile\u001b[0m\u001b[0;34m:\u001b[0m\u001b[0;34m\u001b[0m\u001b[0;34m\u001b[0m\u001b[0m\n\u001b[0m\u001b[1;32m      2\u001b[0m     \u001b[0mpickle\u001b[0m\u001b[0;34m.\u001b[0m\u001b[0mdump\u001b[0m\u001b[0;34m(\u001b[0m\u001b[0moutput\u001b[0m\u001b[0;34m,\u001b[0m \u001b[0mfile\u001b[0m\u001b[0;34m)\u001b[0m\u001b[0;34m\u001b[0m\u001b[0;34m\u001b[0m\u001b[0m\n",
            "\u001b[0;31mFileNotFoundError\u001b[0m: [Errno 2] No such file or directory: 'ada_depths.pickle'"
          ]
        }
      ],
      "source": [
        "with open('ada_depths.pickle', 'rb') as file:\n",
        "    pickle.dump(output, file)"
      ]
    },
    {
      "cell_type": "code",
      "execution_count": null,
      "metadata": {
        "colab": {
          "base_uri": "https://localhost:8080/",
          "height": 589
        },
        "id": "I-2KtO52NaVN",
        "outputId": "6247b47f-6302-4f53-eb83-73d9496447e8"
      },
      "outputs": [
        {
          "name": "stdout",
          "output_type": "stream",
          "text": [
            " * Serving Flask app '__main__'\n",
            " * Debug mode: off\n"
          ]
        },
        {
          "name": "stderr",
          "output_type": "stream",
          "text": [
            "INFO:werkzeug:\u001b[31m\u001b[1mWARNING: This is a development server. Do not use it in a production deployment. Use a production WSGI server instead.\u001b[0m\n",
            " * Running on http://127.0.0.1:5000\n",
            "INFO:werkzeug:\u001b[33mPress CTRL+C to quit\u001b[0m\n"
          ]
        },
        {
          "name": "stdout",
          "output_type": "stream",
          "text": [
            " * Running on http://7584-34-86-93-105.ngrok.io\n",
            " * Traffic stats available on http://127.0.0.1:4040\n"
          ]
        },
        {
          "data": {
            "image/png": "[encoded data removed]",
            "text/plain": [
              "<Figure size 432x288 with 1 Axes>"
            ]
          },
          "metadata": {},
          "output_type": "display_data"
        },
        {
          "name": "stderr",
          "output_type": "stream",
          "text": [
            "INFO:werkzeug:127.0.0.1 - - [15/Mar/2023 21:41:20] \"POST / HTTP/1.1\" 200 -\n"
          ]
        },
        {
          "name": "stdout",
          "output_type": "stream",
          "text": [
            "predicted depth is 8.128 meters\n"
          ]
        },
        {
          "data": {
            "image/png": "[encoded data removed]",
            "text/plain": [
              "<Figure size 432x288 with 1 Axes>"
            ]
          },
          "metadata": {},
          "output_type": "display_data"
        },
        {
          "name": "stderr",
          "output_type": "stream",
          "text": [
            "INFO:werkzeug:127.0.0.1 - - [15/Mar/2023 21:42:19] \"POST / HTTP/1.1\" 200 -\n"
          ]
        },
        {
          "name": "stdout",
          "output_type": "stream",
          "text": [
            "predicted depth is 1.3539856672286987 meters\n"
          ]
        }
      ],
      "source": [
        "reg = -1\n",
        "def get_reg(d):\n",
        "  global reg\n",
        "  if (reg == -1):\n",
        "    start_distance = 8.128\n",
        "    x = np.array([d, d * 2])\n",
        "    x_prime = np.array([start_distance, start_distance / 2])\n",
        "    reg = LinearRegression().fit(x.reshape(-1, 1), x_prime)\n",
        "  return reg\n",
        "\n",
        "turns = [\"left\", \"left\"]\n",
        "\n",
        "\n",
        "from flask_ngrok import run_with_ngrok\n",
        "from flask import Flask, render_template, request\n",
        "import os\n",
        "app = Flask(__name__)\n",
        "run_with_ngrok(app)\n",
        "@app.route('/', methods=[\"POST\"])\n",
        "def inference():\n",
        "  global turns\n",
        "  b64 = request.json[\"b64\"]\n",
        "  model = request.json[\"model\"]\n",
        "\n",
        "  if (model == \"midas\"):\n",
        "    input_batch, np_img = get_input_batch(b64)\n",
        "    output = do_prediction_midas(input_batch, np_img)\n",
        "    out_b64 = output_to_b64(output)\n",
        "  else:\n",
        "    pil_img, og_shape = preprocess(b64)\n",
        "    output = do_predictions(pil_img)\n",
        "    out_b64, output = postprocess(output, og_shape)\n",
        "\n",
        "\n",
        "\n",
        "  plt.imshow(output)\n",
        "  plt.show()\n",
        "\n",
        "  out_h, out_w = output.shape\n",
        "  d = output[out_h // 2, out_w // 2]\n",
        "\n",
        "  if (model == \"midas\"):\n",
        "    reg = get_reg(d)\n",
        "    pd = reg.predict(np.array([d]).reshape(-1, 1))[0]\n",
        "  else:\n",
        "    pd = d\n",
        "\n",
        "  command = \"advance\"\n",
        "  if (0.25 < pd < 1):\n",
        "    if (len(turns) > 0):\n",
        "      command = \"turn\" + turns[0]\n",
        "      turns = turns[1:]\n",
        "    else:\n",
        "      command = \"stop\"\n",
        "  elif (pd < 0.25):\n",
        "    command = \"back up\"\n",
        "  print(f\"predicted depth is {pd} meters\")\n",
        "\n",
        "  # return {\"out_b64\": out_b64, \"depth\": str(d), \"command\": command}\n",
        "  return {\"depth\": str(pd), \"command\": command, \"out_b64\": out_b64}\n",
        "\n",
        "app.run()"
      ]
    }
  ],
  "metadata": {
    "colab": {
      "provenance": []
    },
    "gpuClass": "standard",
    "kernelspec": {
      "display_name": "Python 3",
      "name": "python3"
    },
    "language_info": {
      "name": "python"
    }
  },
  "nbformat": 4,
  "nbformat_minor": 0
}